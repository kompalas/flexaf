{
 "cells": [
  {
   "cell_type": "code",
   "execution_count": 2,
   "id": "9d1aab31",
   "metadata": {},
   "outputs": [
    {
     "name": "stderr",
     "output_type": "stream",
     "text": [
      "2025-08-13 09:15:32.221713: E external/local_xla/xla/stream_executor/cuda/cuda_fft.cc:467] Unable to register cuFFT factory: Attempting to register factory for plugin cuFFT when one has already been registered\n",
      "WARNING: All log messages before absl::InitializeLog() is called are written to STDERR\n",
      "E0000 00:00:1755065732.243234 1562679 cuda_dnn.cc:8579] Unable to register cuDNN factory: Attempting to register factory for plugin cuDNN when one has already been registered\n",
      "E0000 00:00:1755065732.249881 1562679 cuda_blas.cc:1407] Unable to register cuBLAS factory: Attempting to register factory for plugin cuBLAS when one has already been registered\n",
      "W0000 00:00:1755065732.267401 1562679 computation_placer.cc:177] computation placer already registered. Please check linkage and avoid linking the same target more than once.\n",
      "W0000 00:00:1755065732.267421 1562679 computation_placer.cc:177] computation placer already registered. Please check linkage and avoid linking the same target more than once.\n",
      "W0000 00:00:1755065732.267424 1562679 computation_placer.cc:177] computation placer already registered. Please check linkage and avoid linking the same target more than once.\n",
      "W0000 00:00:1755065732.267426 1562679 computation_placer.cc:177] computation placer already registered. Please check linkage and avoid linking the same target more than once.\n",
      "2025-08-13 09:15:32.272771: I tensorflow/core/platform/cpu_feature_guard.cc:210] This TensorFlow binary is optimized to use available CPU instructions in performance-critical operations.\n",
      "To enable the following instructions: AVX2 FMA, in other operations, rebuild TensorFlow with the appropriate compiler flags.\n"
     ]
    }
   ],
   "source": [
    "import pandas as pd\n",
    "import os\n",
    "import numpy as np\n",
    "from collections import OrderedDict\n",
    "from src import project_dir\n",
    "from src.selection import kept_features, all_features\n",
    "feature_area_map = {\n",
    "    'min': 0.002,\n",
    "    'max': 0.002,\n",
    "    'sum': 0.0099,\n",
    "    'mean': 0.0084\n",
    "}\n",
    "features_power_map = {\n",
    "    'min': 0.44,\n",
    "    'max': 0.44,\n",
    "    'sum': 232,\n",
    "    'mean': 155\n",
    "}"
   ]
  },
  {
   "cell_type": "code",
   "execution_count": 7,
   "id": "6239ca42",
   "metadata": {},
   "outputs": [
    {
     "name": "stdout",
     "output_type": "stream",
     "text": [
      "14 sensors found in the dataset: ['ax', 'ay', 'az', 'emg', 'temp', 'eda', 'ecg', 'resp', 'ax_wrist', 'ay_wrist', 'az_wrist', 'eda_wrist', 'temp_wrist', 'bvp_wrist', 'label', 'subject']\n",
      "20 Selected features:\n",
      "['mean', 'mean', 'sum', 'min', 'mean', 'min', 'sum', 'min', 'sum', 'min', 'mean', 'sum', 'min', 'min', 'sum', 'mean', 'sum', 'mean', 'min', 'max']\n",
      "Total area of selected features: 0.12580000000000002\n",
      "Total power of selected features: 2325.5200000000004\n"
     ]
    }
   ],
   "source": [
    "dataset_file = os.path.join(project_dir, 'data', 'wesad_merged.csv')\n",
    "use_all_features = False\n",
    "selected_features = [35, 7, 38, 32, 11, 4, 34, 36, 6, 8, 39, 10, 44, 52, 46, 47, 54, 55, 16, 33]\n",
    "\n",
    "\n",
    "sensors = pd.read_csv(dataset_file, nrows=1).columns.to_list()\n",
    "num_sensors = len(sensors) - 2\n",
    "print(f\"{num_sensors} sensors found in the dataset: {sensors}\")\n",
    "features_dict = OrderedDict([\n",
    "    (sensor_id, all_features) if use_all_features else\n",
    "    (sensor_id, kept_features)\n",
    "    for sensor_id in range(0, num_sensors)\n",
    "])\n",
    "\n",
    "all_feature_names = [\n",
    "    feature\n",
    "    for sensor_id, features in features_dict.items()\n",
    "    for feature in features\n",
    "]\n",
    "\n",
    "selected_feature_list = np.array(all_feature_names)[selected_features]\n",
    "print(f\"{len(selected_feature_list)} Selected features:\\n{selected_feature_list.tolist()}\")\n",
    "\n",
    "if use_all_features:\n",
    "    print(\"Cannot compute cost of selected features with all features enabled.\")\n",
    "\n",
    "else:\n",
    "    total_area = sum(feature_area_map[feature] for feature in selected_feature_list)\n",
    "    print(f\"Total area of selected features: {total_area}\")\n",
    "    total_power = sum(features_power_map[feature] for feature in selected_feature_list)\n",
    "    print(f\"Total power of selected features: {total_power}\")"
   ]
  },
  {
   "cell_type": "markdown",
   "id": "1640dae3",
   "metadata": {},
   "source": [
    "### Compute digital features area/power/delay"
   ]
  },
  {
   "cell_type": "code",
   "execution_count": 51,
   "id": "828039d5",
   "metadata": {},
   "outputs": [
    {
     "name": "stdout",
     "output_type": "stream",
     "text": [
      "Total area of selected features: 7.243e+06 um^2\n",
      "Total power of selected features: 2.253e-04 mW\n",
      "Total delay of selected features: 7.288e+03 ns\n",
      "Total energy of selected features: 5.210e-07 uJ\n"
     ]
    }
   ],
   "source": [
    "features_csv = '/home/balaskas/pestress/hw_eval/features/results.csv'\n",
    "sampling_rate = 32\n",
    "precision = 4\n",
    "features_list = ['muPeaks', 'mean', 'npeaks', 'npeaks', 'std', 'npeaks', 'peaks', 'peaks', 'min', 'std', 'mean', 'std', 'min', 'peaks', 'mean', 'npeaks', 'min', 'mean', 'muPeaks', 'peaks']\n",
    "\n",
    "df = pd.read_csv(features_csv)\n",
    "prec_df = df[(df['Precision'] == precision)]\n",
    "single_sample_features = [feature for feature in df['FeatureName'].unique()\n",
    "                          if set(df[df['FeatureName'] == feature]['NumSamples']) == {1}]\n",
    "\n",
    "total_area = total_power = total_delay = total_energy = 0\n",
    "for _feature in features_list:\n",
    "    if _feature == 'median':\n",
    "        print(\"Skipping 'median' feature\")\n",
    "        continue\n",
    "    if _feature == 'peaks':\n",
    "        feature = \"npeaks\"\n",
    "    else:\n",
    "        feature = _feature\n",
    "\n",
    "    num_samples = 1 if feature in single_sample_features else sampling_rate\n",
    "    feature_data = prec_df[(prec_df['FeatureName'] == feature) & (prec_df['NumSamples'] == num_samples)]\n",
    "    if feature_data.empty:\n",
    "        print(f\"Feature {feature} not found in the dataset.\")\n",
    "        continue\n",
    "    total_area += feature_data['Area(um2)'].iloc[0]\n",
    "    total_power += feature_data['Power(mW)'].iloc[0]\n",
    "    total_delay = max(total_delay, feature_data['Delay(ns)'].iloc[0])\n",
    "\n",
    "    total_energy = feature_data['Power(mW)'].iloc[0] * feature_data['Delay(ns)'].iloc[0] * sampling_rate\n",
    "\n",
    "print(f\"Total area of selected features: {total_area:.3e} um^2\")\n",
    "print(f\"Total power of selected features: {total_power:.3e} mW\")\n",
    "print(f\"Total delay of selected features: {total_delay:.3e} ns\")\n",
    "print(f\"Total energy of selected features: {total_energy * 1E-6:.3e} uJ\")  # mW * ns = 1E-12 J = 1E-6 uJ"
   ]
  },
  {
   "cell_type": "code",
   "execution_count": 50,
   "id": "912bd312",
   "metadata": {},
   "outputs": [
    {
     "name": "stdout",
     "output_type": "stream",
     "text": [
      "    FeatureName     Area(um2)  Power(mW)\n",
      "203         min  90500.960022   0.000002\n",
      "   FeatureName    Area(um2)  Power(mW)\n",
      "67         max  88998.56012   0.000002\n",
      "    FeatureName      Area(um2)  Power(mW)\n",
      "395         sum  238207.980103   0.000007\n",
      "    FeatureName      Area(um2)  Power(mW)\n",
      "115        mean  238207.980103   0.000007\n"
     ]
    }
   ],
   "source": [
    "for feature in ['min', 'max', 'sum', 'mean']:\n",
    "    num_samples = 1 if feature in single_sample_features else sampling_rate\n",
    "    feature_df = df[(df['Precision'] == precision) & (df['FeatureName'] == feature) & (df['NumSamples'] == num_samples)]\n",
    "    print(feature_df[['FeatureName', 'Area(um2)', 'Power(mW)',]])"
   ]
  }
 ],
 "metadata": {
  "kernelspec": {
   "display_name": "flexaf",
   "language": "python",
   "name": "python3"
  },
  "language_info": {
   "codemirror_mode": {
    "name": "ipython",
    "version": 3
   },
   "file_extension": ".py",
   "mimetype": "text/x-python",
   "name": "python",
   "nbconvert_exporter": "python",
   "pygments_lexer": "ipython3",
   "version": "3.10.15"
  }
 },
 "nbformat": 4,
 "nbformat_minor": 5
}
