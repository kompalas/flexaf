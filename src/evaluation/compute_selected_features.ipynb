{
 "cells": [
  {
   "cell_type": "code",
   "execution_count": 18,
   "id": "9d1aab31",
   "metadata": {},
   "outputs": [],
   "source": [
    "import pandas as pd\n",
    "import os\n",
    "import numpy as np\n",
    "from collections import OrderedDict\n",
    "from src import project_dir\n",
    "from src.selection import kept_features, all_features\n",
    "feature_cost_map = {\n",
    "    'min': 0.002,\n",
    "    'max': 0.002,\n",
    "    'sum': 0.0099,\n",
    "    'mean': 0.0084\n",
    "}"
   ]
  },
  {
   "cell_type": "code",
   "execution_count": 57,
   "id": "6239ca42",
   "metadata": {},
   "outputs": [],
   "source": [
    "dataset_file = os.path.join(project_dir, 'data', 'harth.csv')\n",
    "use_all_features = True\n",
    "selected_features = [35, 71, 11, 0, 10, 4, 9, 64, 27, 70, 2, 3, 28, 33, 62, 16, 34, 24, 26, 23]"
   ]
  },
  {
   "cell_type": "code",
   "execution_count": 58,
   "id": "99931ee3",
   "metadata": {},
   "outputs": [
    {
     "name": "stdout",
     "output_type": "stream",
     "text": [
      "7 sensors found in the dataset: ['timestamp', 'back_x', 'back_y', 'back_z', 'thigh_x', 'thigh_y', 'thigh_z', 'label', 'subject']\n",
      "20 Selected features:\n",
      "['muPeaks', 'muPeaks', 'muPeaks', 'min', 'npeaks', 'sum', 'peaks', 'sum', 'std', 'npeaks', 'mean', 'std', 'sum', 'peaks', 'mean', 'sum', 'npeaks', 'min', 'mean', 'muPeaks']\n",
      "Cannot compute cost of selected features with all features enabled.\n"
     ]
    }
   ],
   "source": [
    "sensors = pd.read_csv(dataset_file, nrows=1).columns.to_list()\n",
    "num_sensors = len(sensors) - 2\n",
    "print(f\"{num_sensors} sensors found in the dataset: {sensors}\")\n",
    "features_dict = OrderedDict([\n",
    "    (sensor_id, all_features) if use_all_features else\n",
    "    (sensor_id, kept_features)\n",
    "    for sensor_id in range(0, num_sensors)\n",
    "])\n",
    "\n",
    "all_feature_names = [\n",
    "    feature\n",
    "    for sensor_id, features in features_dict.items()\n",
    "    for feature in features\n",
    "]\n",
    "\n",
    "selected_feature_list = np.array(all_feature_names)[selected_features]\n",
    "print(f\"{len(selected_feature_list)} Selected features:\\n{selected_feature_list.tolist()}\")\n",
    "\n",
    "if use_all_features:\n",
    "    print(\"Cannot compute cost of selected features with all features enabled.\")\n",
    "\n",
    "else:\n",
    "    total_cost = sum(feature_cost_map[feature] for feature in selected_feature_list)\n",
    "    print(f\"Total cost of selected features: {total_cost}\")"
   ]
  },
  {
   "cell_type": "code",
   "execution_count": null,
   "id": "828039d5",
   "metadata": {},
   "outputs": [],
   "source": []
  }
 ],
 "metadata": {
  "kernelspec": {
   "display_name": "flexaf",
   "language": "python",
   "name": "python3"
  },
  "language_info": {
   "codemirror_mode": {
    "name": "ipython",
    "version": 3
   },
   "file_extension": ".py",
   "mimetype": "text/x-python",
   "name": "python",
   "nbconvert_exporter": "python",
   "pygments_lexer": "ipython3",
   "version": "3.10.15"
  }
 },
 "nbformat": 4,
 "nbformat_minor": 5
}
